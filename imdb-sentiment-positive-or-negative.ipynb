{
 "cells": [
  {
   "cell_type": "code",
   "execution_count": 1,
   "id": "d21a54d8",
   "metadata": {
    "_cell_guid": "b1076dfc-b9ad-4769-8c92-a6c4dae69d19",
    "_uuid": "8f2839f25d086af736a60e9eeb907d3b93b6e0e5",
    "execution": {
     "iopub.execute_input": "2025-07-22T10:26:46.733989Z",
     "iopub.status.busy": "2025-07-22T10:26:46.733622Z",
     "iopub.status.idle": "2025-07-22T10:26:49.074140Z",
     "shell.execute_reply": "2025-07-22T10:26:49.072723Z"
    },
    "papermill": {
     "duration": 2.347584,
     "end_time": "2025-07-22T10:26:49.076203",
     "exception": false,
     "start_time": "2025-07-22T10:26:46.728619",
     "status": "completed"
    },
    "tags": []
   },
   "outputs": [
    {
     "name": "stdout",
     "output_type": "stream",
     "text": [
      "/kaggle/input/imdb-dataset-of-50k-movie-reviews/IMDB Dataset.csv\n"
     ]
    }
   ],
   "source": [
    "# This Python 3 environment comes with many helpful analytics libraries installed\n",
    "# It is defined by the kaggle/python Docker image: https://github.com/kaggle/docker-python\n",
    "# For example, here's several helpful packages to load\n",
    "\n",
    "import numpy as np # linear algebra\n",
    "import pandas as pd # data processing, CSV file I/O (e.g. pd.read_csv)\n",
    "\n",
    "# Input data files are available in the read-only \"../input/\" directory\n",
    "# For example, running this (by clicking run or pressing Shift+Enter) will list all files under the input directory\n",
    "\n",
    "import os\n",
    "for dirname, _, filenames in os.walk('/kaggle/input'):\n",
    "    for filename in filenames:\n",
    "        print(os.path.join(dirname, filename))\n",
    "\n",
    "# You can write up to 20GB to the current directory (/kaggle/working/) that gets preserved as output when you create a version using \"Save & Run All\" \n",
    "# You can also write temporary files to /kaggle/temp/, but they won't be saved outside of the current session"
   ]
  },
  {
   "cell_type": "code",
   "execution_count": 2,
   "id": "c9e5ce93",
   "metadata": {
    "execution": {
     "iopub.execute_input": "2025-07-22T10:26:49.085161Z",
     "iopub.status.busy": "2025-07-22T10:26:49.084686Z",
     "iopub.status.idle": "2025-07-22T10:26:51.506889Z",
     "shell.execute_reply": "2025-07-22T10:26:51.505934Z"
    },
    "papermill": {
     "duration": 2.42837,
     "end_time": "2025-07-22T10:26:51.508781",
     "exception": false,
     "start_time": "2025-07-22T10:26:49.080411",
     "status": "completed"
    },
    "tags": []
   },
   "outputs": [],
   "source": [
    "import pandas as pd\n",
    "import numpy as np\n",
    "from sklearn.ensemble import RandomForestClassifier\n",
    "from sklearn.model_selection import train_test_split\n",
    "from sklearn.feature_extraction.text import CountVectorizer\n",
    "from sklearn.feature_extraction.text import TfidfVectorizer"
   ]
  },
  {
   "cell_type": "code",
   "execution_count": 3,
   "id": "11a5d8ff",
   "metadata": {
    "execution": {
     "iopub.execute_input": "2025-07-22T10:26:51.516817Z",
     "iopub.status.busy": "2025-07-22T10:26:51.516248Z",
     "iopub.status.idle": "2025-07-22T10:26:53.423899Z",
     "shell.execute_reply": "2025-07-22T10:26:53.422883Z"
    },
    "papermill": {
     "duration": 1.913736,
     "end_time": "2025-07-22T10:26:53.425866",
     "exception": false,
     "start_time": "2025-07-22T10:26:51.512130",
     "status": "completed"
    },
    "tags": []
   },
   "outputs": [
    {
     "data": {
      "text/html": [
       "<div>\n",
       "<style scoped>\n",
       "    .dataframe tbody tr th:only-of-type {\n",
       "        vertical-align: middle;\n",
       "    }\n",
       "\n",
       "    .dataframe tbody tr th {\n",
       "        vertical-align: top;\n",
       "    }\n",
       "\n",
       "    .dataframe thead th {\n",
       "        text-align: right;\n",
       "    }\n",
       "</style>\n",
       "<table border=\"1\" class=\"dataframe\">\n",
       "  <thead>\n",
       "    <tr style=\"text-align: right;\">\n",
       "      <th></th>\n",
       "      <th>review</th>\n",
       "      <th>sentiment</th>\n",
       "    </tr>\n",
       "  </thead>\n",
       "  <tbody>\n",
       "    <tr>\n",
       "      <th>0</th>\n",
       "      <td>One of the other reviewers has mentioned that ...</td>\n",
       "      <td>positive</td>\n",
       "    </tr>\n",
       "    <tr>\n",
       "      <th>1</th>\n",
       "      <td>A wonderful little production. &lt;br /&gt;&lt;br /&gt;The...</td>\n",
       "      <td>positive</td>\n",
       "    </tr>\n",
       "    <tr>\n",
       "      <th>2</th>\n",
       "      <td>I thought this was a wonderful way to spend ti...</td>\n",
       "      <td>positive</td>\n",
       "    </tr>\n",
       "  </tbody>\n",
       "</table>\n",
       "</div>"
      ],
      "text/plain": [
       "                                              review sentiment\n",
       "0  One of the other reviewers has mentioned that ...  positive\n",
       "1  A wonderful little production. <br /><br />The...  positive\n",
       "2  I thought this was a wonderful way to spend ti...  positive"
      ]
     },
     "execution_count": 3,
     "metadata": {},
     "output_type": "execute_result"
    }
   ],
   "source": [
    "df=pd.read_csv(\"/kaggle/input/imdb-dataset-of-50k-movie-reviews/IMDB Dataset.csv\")\n",
    "df.head(3)"
   ]
  },
  {
   "cell_type": "code",
   "execution_count": 4,
   "id": "41bd40d9",
   "metadata": {
    "execution": {
     "iopub.execute_input": "2025-07-22T10:26:53.433987Z",
     "iopub.status.busy": "2025-07-22T10:26:53.433618Z",
     "iopub.status.idle": "2025-07-22T10:26:53.440714Z",
     "shell.execute_reply": "2025-07-22T10:26:53.439651Z"
    },
    "papermill": {
     "duration": 0.013396,
     "end_time": "2025-07-22T10:26:53.442680",
     "exception": false,
     "start_time": "2025-07-22T10:26:53.429284",
     "status": "completed"
    },
    "tags": []
   },
   "outputs": [],
   "source": [
    "x=df[\"review\"]\n",
    "x1=df[\"review\"]\n",
    "y=df[\"sentiment\"]"
   ]
  },
  {
   "cell_type": "code",
   "execution_count": 5,
   "id": "64b78f42",
   "metadata": {
    "execution": {
     "iopub.execute_input": "2025-07-22T10:26:53.450664Z",
     "iopub.status.busy": "2025-07-22T10:26:53.450284Z",
     "iopub.status.idle": "2025-07-22T10:26:53.455305Z",
     "shell.execute_reply": "2025-07-22T10:26:53.454418Z"
    },
    "papermill": {
     "duration": 0.011069,
     "end_time": "2025-07-22T10:26:53.457209",
     "exception": false,
     "start_time": "2025-07-22T10:26:53.446140",
     "status": "completed"
    },
    "tags": []
   },
   "outputs": [],
   "source": [
    "cv=CountVectorizer(\n",
    "    lowercase=True,\n",
    "    max_features=5000,\n",
    "    ngram_range=(1, 2),\n",
    "    stop_words=\"english\")\n",
    "\n",
    "cv1=TfidfVectorizer(\n",
    "    max_features=5000,\n",
    "    lowercase=True,\n",
    "    stop_words=\"english\",\n",
    "    ngram_range=(1, 2))"
   ]
  },
  {
   "cell_type": "code",
   "execution_count": 6,
   "id": "d236e945",
   "metadata": {
    "execution": {
     "iopub.execute_input": "2025-07-22T10:26:53.464907Z",
     "iopub.status.busy": "2025-07-22T10:26:53.464533Z",
     "iopub.status.idle": "2025-07-22T10:27:26.652119Z",
     "shell.execute_reply": "2025-07-22T10:27:26.650943Z"
    },
    "papermill": {
     "duration": 33.195838,
     "end_time": "2025-07-22T10:27:26.656429",
     "exception": false,
     "start_time": "2025-07-22T10:26:53.460591",
     "status": "completed"
    },
    "tags": []
   },
   "outputs": [
    {
     "data": {
      "text/plain": [
       "array([0, 0, 0, ..., 0, 0, 0])"
      ]
     },
     "execution_count": 6,
     "metadata": {},
     "output_type": "execute_result"
    }
   ],
   "source": [
    "x=cv.fit_transform(x)\n",
    "x.toarray()[0]"
   ]
  },
  {
   "cell_type": "code",
   "execution_count": 7,
   "id": "d0f2f035",
   "metadata": {
    "execution": {
     "iopub.execute_input": "2025-07-22T10:27:26.664359Z",
     "iopub.status.busy": "2025-07-22T10:27:26.664014Z",
     "iopub.status.idle": "2025-07-22T10:28:01.297480Z",
     "shell.execute_reply": "2025-07-22T10:28:01.296162Z"
    },
    "papermill": {
     "duration": 34.641576,
     "end_time": "2025-07-22T10:28:01.301432",
     "exception": false,
     "start_time": "2025-07-22T10:27:26.659856",
     "status": "completed"
    },
    "tags": []
   },
   "outputs": [
    {
     "data": {
      "text/plain": [
       "array([0., 0., 0., ..., 0., 0., 0.])"
      ]
     },
     "execution_count": 7,
     "metadata": {},
     "output_type": "execute_result"
    }
   ],
   "source": [
    "x1=cv1.fit_transform(x1)\n",
    "x1.toarray()[0]"
   ]
  },
  {
   "cell_type": "code",
   "execution_count": 8,
   "id": "7663c0cb",
   "metadata": {
    "execution": {
     "iopub.execute_input": "2025-07-22T10:28:01.310012Z",
     "iopub.status.busy": "2025-07-22T10:28:01.309046Z",
     "iopub.status.idle": "2025-07-22T10:28:01.332248Z",
     "shell.execute_reply": "2025-07-22T10:28:01.331242Z"
    },
    "papermill": {
     "duration": 0.029149,
     "end_time": "2025-07-22T10:28:01.334050",
     "exception": false,
     "start_time": "2025-07-22T10:28:01.304901",
     "status": "completed"
    },
    "tags": []
   },
   "outputs": [],
   "source": [
    "x_train,x_test,y_train,y_test=train_test_split(x,y,test_size=0.25,random_state=42)"
   ]
  },
  {
   "cell_type": "code",
   "execution_count": 9,
   "id": "f00bed5a",
   "metadata": {
    "execution": {
     "iopub.execute_input": "2025-07-22T10:28:01.342104Z",
     "iopub.status.busy": "2025-07-22T10:28:01.341758Z",
     "iopub.status.idle": "2025-07-22T10:28:01.364002Z",
     "shell.execute_reply": "2025-07-22T10:28:01.363019Z"
    },
    "papermill": {
     "duration": 0.02824,
     "end_time": "2025-07-22T10:28:01.365844",
     "exception": false,
     "start_time": "2025-07-22T10:28:01.337604",
     "status": "completed"
    },
    "tags": []
   },
   "outputs": [],
   "source": [
    "x1_train,x1_test,y_train,y_test=train_test_split(x1,y,test_size=0.25,random_state=42)"
   ]
  },
  {
   "cell_type": "code",
   "execution_count": 10,
   "id": "a9464c74",
   "metadata": {
    "execution": {
     "iopub.execute_input": "2025-07-22T10:28:01.373843Z",
     "iopub.status.busy": "2025-07-22T10:28:01.373497Z",
     "iopub.status.idle": "2025-07-22T10:28:07.180572Z",
     "shell.execute_reply": "2025-07-22T10:28:07.179585Z"
    },
    "papermill": {
     "duration": 5.812873,
     "end_time": "2025-07-22T10:28:07.182236",
     "exception": false,
     "start_time": "2025-07-22T10:28:01.369363",
     "status": "completed"
    },
    "tags": []
   },
   "outputs": [
    {
     "name": "stdout",
     "output_type": "stream",
     "text": [
      "0.81912\n",
      "0.82152\n"
     ]
    }
   ],
   "source": [
    "rf=RandomForestClassifier(n_estimators=200,max_depth=5)\n",
    "model=rf.fit(x_train,y_train)\n",
    "print(model.score(x_test,y_test))\n",
    "print(model.score(x_train,y_train))"
   ]
  },
  {
   "cell_type": "code",
   "execution_count": 11,
   "id": "18dbebe2",
   "metadata": {
    "execution": {
     "iopub.execute_input": "2025-07-22T10:28:07.190746Z",
     "iopub.status.busy": "2025-07-22T10:28:07.190316Z",
     "iopub.status.idle": "2025-07-22T10:28:12.966883Z",
     "shell.execute_reply": "2025-07-22T10:28:12.965611Z"
    },
    "papermill": {
     "duration": 5.78275,
     "end_time": "2025-07-22T10:28:12.968629",
     "exception": false,
     "start_time": "2025-07-22T10:28:07.185879",
     "status": "completed"
    },
    "tags": []
   },
   "outputs": [
    {
     "name": "stdout",
     "output_type": "stream",
     "text": [
      "0.50808\n",
      "0.49784\n"
     ]
    }
   ],
   "source": [
    "rf=RandomForestClassifier(n_estimators=200,max_depth=5)\n",
    "model=rf.fit(x_train,y_train)\n",
    "print(model.score(x1_test,y_test))\n",
    "print(model.score(x1_train,y_train))"
   ]
  }
 ],
 "metadata": {
  "kaggle": {
   "accelerator": "none",
   "dataSources": [
    {
     "datasetId": 134715,
     "sourceId": 320111,
     "sourceType": "datasetVersion"
    }
   ],
   "dockerImageVersionId": 31089,
   "isGpuEnabled": false,
   "isInternetEnabled": true,
   "language": "python",
   "sourceType": "notebook"
  },
  "kernelspec": {
   "display_name": "Python 3",
   "language": "python",
   "name": "python3"
  },
  "language_info": {
   "codemirror_mode": {
    "name": "ipython",
    "version": 3
   },
   "file_extension": ".py",
   "mimetype": "text/x-python",
   "name": "python",
   "nbconvert_exporter": "python",
   "pygments_lexer": "ipython3",
   "version": "3.11.13"
  },
  "papermill": {
   "default_parameters": {},
   "duration": 93.835098,
   "end_time": "2025-07-22T10:28:14.898127",
   "environment_variables": {},
   "exception": null,
   "input_path": "__notebook__.ipynb",
   "output_path": "__notebook__.ipynb",
   "parameters": {},
   "start_time": "2025-07-22T10:26:41.063029",
   "version": "2.6.0"
  }
 },
 "nbformat": 4,
 "nbformat_minor": 5
}
