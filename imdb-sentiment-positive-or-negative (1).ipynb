{
 "cells": [
  {
   "cell_type": "code",
   "execution_count": 1,
   "id": "3964602d",
   "metadata": {
    "_cell_guid": "b1076dfc-b9ad-4769-8c92-a6c4dae69d19",
    "_uuid": "8f2839f25d086af736a60e9eeb907d3b93b6e0e5",
    "execution": {
     "iopub.execute_input": "2025-07-29T09:58:52.201020Z",
     "iopub.status.busy": "2025-07-29T09:58:52.200435Z",
     "iopub.status.idle": "2025-07-29T09:58:54.567709Z",
     "shell.execute_reply": "2025-07-29T09:58:54.566415Z"
    },
    "papermill": {
     "duration": 2.375564,
     "end_time": "2025-07-29T09:58:54.569823",
     "exception": false,
     "start_time": "2025-07-29T09:58:52.194259",
     "status": "completed"
    },
    "tags": []
   },
   "outputs": [
    {
     "name": "stdout",
     "output_type": "stream",
     "text": [
      "/kaggle/input/imdb-dataset-of-50k-movie-reviews/IMDB Dataset.csv\n"
     ]
    }
   ],
   "source": [
    "# This Python 3 environment comes with many helpful analytics libraries installed\n",
    "# It is defined by the kaggle/python Docker image: https://github.com/kaggle/docker-python\n",
    "# For example, here's several helpful packages to load\n",
    "\n",
    "import numpy as np # linear algebra\n",
    "import pandas as pd # data processing, CSV file I/O (e.g. pd.read_csv)\n",
    "\n",
    "# Input data files are available in the read-only \"../input/\" directory\n",
    "# For example, running this (by clicking run or pressing Shift+Enter) will list all files under the input directory\n",
    "\n",
    "import os\n",
    "for dirname, _, filenames in os.walk('/kaggle/input'):\n",
    "    for filename in filenames:\n",
    "        print(os.path.join(dirname, filename))\n",
    "\n",
    "# You can write up to 20GB to the current directory (/kaggle/working/) that gets preserved as output when you create a version using \"Save & Run All\" \n",
    "# You can also write temporary files to /kaggle/temp/, but they won't be saved outside of the current session"
   ]
  },
  {
   "cell_type": "code",
   "execution_count": 2,
   "id": "a5a3a3f0",
   "metadata": {
    "execution": {
     "iopub.execute_input": "2025-07-29T09:58:54.579020Z",
     "iopub.status.busy": "2025-07-29T09:58:54.578456Z",
     "iopub.status.idle": "2025-07-29T09:58:57.105148Z",
     "shell.execute_reply": "2025-07-29T09:58:57.103679Z"
    },
    "papermill": {
     "duration": 2.533695,
     "end_time": "2025-07-29T09:58:57.107650",
     "exception": false,
     "start_time": "2025-07-29T09:58:54.573955",
     "status": "completed"
    },
    "tags": []
   },
   "outputs": [],
   "source": [
    "from sklearn.ensemble import RandomForestClassifier\n",
    "from sklearn.model_selection import train_test_split\n",
    "from sklearn.feature_extraction.text import CountVectorizer\n",
    "from sklearn.feature_extraction.text import TfidfVectorizer"
   ]
  },
  {
   "cell_type": "code",
   "execution_count": 3,
   "id": "71c80636",
   "metadata": {
    "execution": {
     "iopub.execute_input": "2025-07-29T09:58:57.116912Z",
     "iopub.status.busy": "2025-07-29T09:58:57.116215Z",
     "iopub.status.idle": "2025-07-29T09:58:59.219746Z",
     "shell.execute_reply": "2025-07-29T09:58:59.218658Z"
    },
    "papermill": {
     "duration": 2.110195,
     "end_time": "2025-07-29T09:58:59.221485",
     "exception": false,
     "start_time": "2025-07-29T09:58:57.111290",
     "status": "completed"
    },
    "tags": []
   },
   "outputs": [
    {
     "data": {
      "text/html": [
       "<div>\n",
       "<style scoped>\n",
       "    .dataframe tbody tr th:only-of-type {\n",
       "        vertical-align: middle;\n",
       "    }\n",
       "\n",
       "    .dataframe tbody tr th {\n",
       "        vertical-align: top;\n",
       "    }\n",
       "\n",
       "    .dataframe thead th {\n",
       "        text-align: right;\n",
       "    }\n",
       "</style>\n",
       "<table border=\"1\" class=\"dataframe\">\n",
       "  <thead>\n",
       "    <tr style=\"text-align: right;\">\n",
       "      <th></th>\n",
       "      <th>review</th>\n",
       "      <th>sentiment</th>\n",
       "    </tr>\n",
       "  </thead>\n",
       "  <tbody>\n",
       "    <tr>\n",
       "      <th>0</th>\n",
       "      <td>One of the other reviewers has mentioned that ...</td>\n",
       "      <td>positive</td>\n",
       "    </tr>\n",
       "    <tr>\n",
       "      <th>1</th>\n",
       "      <td>A wonderful little production. &lt;br /&gt;&lt;br /&gt;The...</td>\n",
       "      <td>positive</td>\n",
       "    </tr>\n",
       "    <tr>\n",
       "      <th>2</th>\n",
       "      <td>I thought this was a wonderful way to spend ti...</td>\n",
       "      <td>positive</td>\n",
       "    </tr>\n",
       "  </tbody>\n",
       "</table>\n",
       "</div>"
      ],
      "text/plain": [
       "                                              review sentiment\n",
       "0  One of the other reviewers has mentioned that ...  positive\n",
       "1  A wonderful little production. <br /><br />The...  positive\n",
       "2  I thought this was a wonderful way to spend ti...  positive"
      ]
     },
     "execution_count": 3,
     "metadata": {},
     "output_type": "execute_result"
    }
   ],
   "source": [
    "df=pd.read_csv(\"/kaggle/input/imdb-dataset-of-50k-movie-reviews/IMDB Dataset.csv\")\n",
    "df.head(3)"
   ]
  },
  {
   "cell_type": "code",
   "execution_count": 4,
   "id": "f2a8b9b7",
   "metadata": {
    "execution": {
     "iopub.execute_input": "2025-07-29T09:58:59.230368Z",
     "iopub.status.busy": "2025-07-29T09:58:59.229971Z",
     "iopub.status.idle": "2025-07-29T09:58:59.237548Z",
     "shell.execute_reply": "2025-07-29T09:58:59.236276Z"
    },
    "papermill": {
     "duration": 0.014288,
     "end_time": "2025-07-29T09:58:59.239566",
     "exception": false,
     "start_time": "2025-07-29T09:58:59.225278",
     "status": "completed"
    },
    "tags": []
   },
   "outputs": [],
   "source": [
    "x=df[\"review\"]\n",
    "x1=df[\"review\"]\n",
    "y=df[\"sentiment\"]"
   ]
  },
  {
   "cell_type": "code",
   "execution_count": 5,
   "id": "44e2ec50",
   "metadata": {
    "execution": {
     "iopub.execute_input": "2025-07-29T09:58:59.248541Z",
     "iopub.status.busy": "2025-07-29T09:58:59.248130Z",
     "iopub.status.idle": "2025-07-29T09:58:59.254067Z",
     "shell.execute_reply": "2025-07-29T09:58:59.253011Z"
    },
    "papermill": {
     "duration": 0.012777,
     "end_time": "2025-07-29T09:58:59.256128",
     "exception": false,
     "start_time": "2025-07-29T09:58:59.243351",
     "status": "completed"
    },
    "tags": []
   },
   "outputs": [],
   "source": [
    "cv=CountVectorizer(\n",
    "    lowercase=True,\n",
    "    max_features=5000,\n",
    "    ngram_range=(1, 2),\n",
    "    stop_words=\"english\")\n",
    "\n",
    "tfidf=TfidfVectorizer(\n",
    "    max_features=5000,\n",
    "    lowercase=True,\n",
    "    stop_words=\"english\",\n",
    "    ngram_range=(1, 2))"
   ]
  },
  {
   "cell_type": "code",
   "execution_count": 6,
   "id": "8da3c883",
   "metadata": {
    "execution": {
     "iopub.execute_input": "2025-07-29T09:58:59.265615Z",
     "iopub.status.busy": "2025-07-29T09:58:59.264644Z",
     "iopub.status.idle": "2025-07-29T09:59:46.839608Z",
     "shell.execute_reply": "2025-07-29T09:59:46.838801Z"
    },
    "papermill": {
     "duration": 47.585042,
     "end_time": "2025-07-29T09:59:46.844766",
     "exception": false,
     "start_time": "2025-07-29T09:58:59.259724",
     "status": "completed"
    },
    "tags": []
   },
   "outputs": [
    {
     "data": {
      "text/plain": [
       "array([0, 0, 0, ..., 0, 0, 0])"
      ]
     },
     "execution_count": 6,
     "metadata": {},
     "output_type": "execute_result"
    }
   ],
   "source": [
    "x=cv.fit_transform(x)\n",
    "x.toarray()[0]"
   ]
  },
  {
   "cell_type": "code",
   "execution_count": 7,
   "id": "b25d667a",
   "metadata": {
    "execution": {
     "iopub.execute_input": "2025-07-29T09:59:46.853004Z",
     "iopub.status.busy": "2025-07-29T09:59:46.852591Z",
     "iopub.status.idle": "2025-07-29T10:00:35.639247Z",
     "shell.execute_reply": "2025-07-29T10:00:35.638287Z"
    },
    "papermill": {
     "duration": 48.796533,
     "end_time": "2025-07-29T10:00:35.644612",
     "exception": false,
     "start_time": "2025-07-29T09:59:46.848079",
     "status": "completed"
    },
    "tags": []
   },
   "outputs": [
    {
     "data": {
      "text/plain": [
       "array([0., 0., 0., ..., 0., 0., 0.])"
      ]
     },
     "execution_count": 7,
     "metadata": {},
     "output_type": "execute_result"
    }
   ],
   "source": [
    "x1=tfidf.fit_transform(x1)\n",
    "x1.toarray()[0]"
   ]
  },
  {
   "cell_type": "code",
   "execution_count": 8,
   "id": "bf4b9b0f",
   "metadata": {
    "execution": {
     "iopub.execute_input": "2025-07-29T10:00:35.653280Z",
     "iopub.status.busy": "2025-07-29T10:00:35.652853Z",
     "iopub.status.idle": "2025-07-29T10:00:35.690288Z",
     "shell.execute_reply": "2025-07-29T10:00:35.689086Z"
    },
    "papermill": {
     "duration": 0.044129,
     "end_time": "2025-07-29T10:00:35.692345",
     "exception": false,
     "start_time": "2025-07-29T10:00:35.648216",
     "status": "completed"
    },
    "tags": []
   },
   "outputs": [],
   "source": [
    "x_train,x_test,y_train,y_test=train_test_split(x,y,test_size=0.25,random_state=42)"
   ]
  },
  {
   "cell_type": "code",
   "execution_count": 9,
   "id": "ee2f4365",
   "metadata": {
    "execution": {
     "iopub.execute_input": "2025-07-29T10:00:35.701187Z",
     "iopub.status.busy": "2025-07-29T10:00:35.700684Z",
     "iopub.status.idle": "2025-07-29T10:00:35.735244Z",
     "shell.execute_reply": "2025-07-29T10:00:35.734019Z"
    },
    "papermill": {
     "duration": 0.0413,
     "end_time": "2025-07-29T10:00:35.737375",
     "exception": false,
     "start_time": "2025-07-29T10:00:35.696075",
     "status": "completed"
    },
    "tags": []
   },
   "outputs": [],
   "source": [
    "x1_train,x1_test,y_train,y_test=train_test_split(x1,y,test_size=0.25,random_state=42)"
   ]
  },
  {
   "cell_type": "code",
   "execution_count": 10,
   "id": "5e201222",
   "metadata": {
    "execution": {
     "iopub.execute_input": "2025-07-29T10:00:35.747030Z",
     "iopub.status.busy": "2025-07-29T10:00:35.746003Z",
     "iopub.status.idle": "2025-07-29T10:00:41.424722Z",
     "shell.execute_reply": "2025-07-29T10:00:41.423702Z"
    },
    "papermill": {
     "duration": 5.685825,
     "end_time": "2025-07-29T10:00:41.426985",
     "exception": false,
     "start_time": "2025-07-29T10:00:35.741160",
     "status": "completed"
    },
    "tags": []
   },
   "outputs": [
    {
     "name": "stdout",
     "output_type": "stream",
     "text": [
      "0.814\n",
      "0.8184\n"
     ]
    }
   ],
   "source": [
    "rf=RandomForestClassifier(n_estimators=200,max_depth=5)\n",
    "model=rf.fit(x_train,y_train)\n",
    "print(model.score(x_test,y_test))\n",
    "print(model.score(x_train,y_train))"
   ]
  },
  {
   "cell_type": "code",
   "execution_count": 11,
   "id": "16555e74",
   "metadata": {
    "execution": {
     "iopub.execute_input": "2025-07-29T10:00:41.438345Z",
     "iopub.status.busy": "2025-07-29T10:00:41.437922Z",
     "iopub.status.idle": "2025-07-29T10:00:50.085165Z",
     "shell.execute_reply": "2025-07-29T10:00:50.083968Z"
    },
    "papermill": {
     "duration": 8.654541,
     "end_time": "2025-07-29T10:00:50.087305",
     "exception": false,
     "start_time": "2025-07-29T10:00:41.432764",
     "status": "completed"
    },
    "tags": []
   },
   "outputs": [
    {
     "name": "stdout",
     "output_type": "stream",
     "text": [
      "0.81488\n",
      "0.8222666666666667\n"
     ]
    }
   ],
   "source": [
    "rf=RandomForestClassifier(n_estimators=200,max_depth=5)\n",
    "model=rf.fit(x1_train,y_train)\n",
    "print(model.score(x1_test,y_test))\n",
    "print(model.score(x1_train,y_train))"
   ]
  },
  {
   "cell_type": "code",
   "execution_count": 12,
   "id": "b9f75fd3",
   "metadata": {
    "execution": {
     "iopub.execute_input": "2025-07-29T10:00:50.096726Z",
     "iopub.status.busy": "2025-07-29T10:00:50.096334Z",
     "iopub.status.idle": "2025-07-29T10:00:50.386632Z",
     "shell.execute_reply": "2025-07-29T10:00:50.385292Z"
    },
    "papermill": {
     "duration": 0.29762,
     "end_time": "2025-07-29T10:00:50.388981",
     "exception": false,
     "start_time": "2025-07-29T10:00:50.091361",
     "status": "completed"
    },
    "tags": []
   },
   "outputs": [
    {
     "name": "stdout",
     "output_type": "stream",
     "text": [
      "0.866\n",
      "0.8556\n"
     ]
    }
   ],
   "source": [
    "from sklearn.naive_bayes import MultinomialNB\n",
    "\n",
    "mn=MultinomialNB()\n",
    "model1=mn.fit(x1_train,y_train)\n",
    "\n",
    "print(model1.score(x1_train,y_train))\n",
    "print(model1.score(x1_test,y_test))"
   ]
  },
  {
   "cell_type": "code",
   "execution_count": null,
   "id": "6d7fbfd2",
   "metadata": {
    "papermill": {
     "duration": 0.003805,
     "end_time": "2025-07-29T10:00:50.397258",
     "exception": false,
     "start_time": "2025-07-29T10:00:50.393453",
     "status": "completed"
    },
    "tags": []
   },
   "outputs": [],
   "source": []
  }
 ],
 "metadata": {
  "kaggle": {
   "accelerator": "none",
   "dataSources": [
    {
     "datasetId": 134715,
     "sourceId": 320111,
     "sourceType": "datasetVersion"
    }
   ],
   "dockerImageVersionId": 31089,
   "isGpuEnabled": false,
   "isInternetEnabled": true,
   "language": "python",
   "sourceType": "notebook"
  },
  "kernelspec": {
   "display_name": "Python 3",
   "language": "python",
   "name": "python3"
  },
  "language_info": {
   "codemirror_mode": {
    "name": "ipython",
    "version": 3
   },
   "file_extension": ".py",
   "mimetype": "text/x-python",
   "name": "python",
   "nbconvert_exporter": "python",
   "pygments_lexer": "ipython3",
   "version": "3.11.13"
  },
  "papermill": {
   "default_parameters": {},
   "duration": 126.510984,
   "end_time": "2025-07-29T10:00:53.023864",
   "environment_variables": {},
   "exception": null,
   "input_path": "__notebook__.ipynb",
   "output_path": "__notebook__.ipynb",
   "parameters": {},
   "start_time": "2025-07-29T09:58:46.512880",
   "version": "2.6.0"
  }
 },
 "nbformat": 4,
 "nbformat_minor": 5
}
